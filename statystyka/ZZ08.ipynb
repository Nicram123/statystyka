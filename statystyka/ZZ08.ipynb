{
 "cells": [
  {
   "cell_type": "markdown",
   "id": "5ca9e398",
   "metadata": {
    "deletable": false,
    "editable": false,
    "nbgrader": {
     "cell_type": "markdown",
     "checksum": "ff0bc2c9546dc7416a62ab1f8e86fe5a",
     "grade": false,
     "grade_id": "cell-fcd2666579131b77",
     "locked": true,
     "schema_version": 3,
     "solution": false,
     "task": false
    },
    "tags": []
   },
   "source": [
    "# Statystyka matematyczna - ćwiczenia laboratoryjne 2023/2024\n",
    "\n",
    "Ten notatnik zalicza się do grupy zestawów zadań, na podstawie których odbywa się zaliczenie ćwiczeń i podlega zwrotowi do oceny w ustalonym na zajęciach terminie.\n",
    "\n",
    "Uwagi i wytyczne ogólne dotyczące uzupełniania notatnika:\n",
    "- Podczas wykonywania zadań należy korzystać wyłącznie z pakietów zaimportowanych na początku notatnika oraz z pakietów wchodzących w skład standardowej biblioteki Pythona, które można zaimportować samodzielnie we wskazanej komórce notatnika.\n",
    "- Swoje rozwiązania należy wprowadzać wyłącznie w miejce następujących fragmentów kodu:<br/> `# YOUR CODE HERE`<br/> `raise NotImplementedError()`<br/> \n",
    "a odpowiedzi tekstowe w komórkach oznaczonych hasłem:<br/> \n",
    "`YOUR ANSWER HERE`<br/> \n",
    "Nie należy w żaden sposób modyfikować pozostałych fragmentów kodu oraz innych elementów notatnika, w szczególności dodawać lub usuwać komórek oraz zmieniać nazwy pliku.\n",
    "- Otrzymywane wyniki i odpowiedzi mają być rezultatem wykonania napisanego kodu.\n",
    "- Zadanie należy wykonać w taki sposób, aby podczas wykonywania kodu nie zostały wyświetlone żadne ostrzeżenia.\n",
    "- Zawarte w notatniku automatyczne testy mają charakter poglądowy. Dotyczą one wybranych aspektów zadań i mają za zadanie wyłapać podstawowe błędy. Przejście wszystkich testów nie oznacza, że zadanie jest wykonane w całości poprawnie.\n",
    "\n",
    "Uwagi i wytyczne ogólne dotyczące wizualizacji wyników:\n",
    "- Wszystkie wykresy powinny być wykonane w jednolitym, przejrzystym i czytelnym stylu, posiadać odpowiednio dobrane proporcje i zakresy wartości osi.\n",
    "- Wykresy oraz ich osie powinny mieć nadane tytuły. Jeżeli w obrębie figury znajduje się więcej niż jeden wykres to figura również powinna mieć nadany tytuł. \n",
    "- Figury powinny mieć ustawione białe tło, tak, aby niezależnie od ustawień notatnika wszystkie elementy wykresów były dobrze widoczne (domyślnie tło jest przeźroczyste co może powodować problemy w notatnikach z ustawionym ciemnym tłem).\n",
    "- Rozmiar poziomy figur nie powinien przekraczać 20 cali.\n",
    "\n",
    "Przed odesłaniem zestawu zadań do oceny proszę uzupełnić komórkę z danymi autorów rozwiązania (nazwa zespołu oraz imiona, nazwiska i numery indeksów członków zespołu) oraz upewnić się, że notatnik działa zgodnie z oczekiwaniami. W tym celu należy skorzystać z opcji **Restart Kernel and Run All Cells...** dostępnej na górnej belce notatnika pod symbolem $\\blacktriangleright\\blacktriangleright$."
   ]
  },
  {
   "cell_type": "markdown",
   "id": "dcc7567d",
   "metadata": {},
   "source": [
    "Nazwa zespołu:\n",
    "Członkowie:"
   ]
  },
  {
   "cell_type": "markdown",
   "id": "ce65862d",
   "metadata": {
    "deletable": false,
    "editable": false,
    "nbgrader": {
     "cell_type": "markdown",
     "checksum": "eddc8826810e4a6f7bf68319da334bd9",
     "grade": false,
     "grade_id": "cell-109006d425e5cf83",
     "locked": true,
     "schema_version": 3,
     "solution": false,
     "task": false
    },
    "tags": []
   },
   "source": [
    "---"
   ]
  },
  {
   "cell_type": "markdown",
   "id": "b8f95570-83b1-4122-baf4-37641f18858e",
   "metadata": {
    "deletable": false,
    "editable": false,
    "nbgrader": {
     "cell_type": "markdown",
     "checksum": "a0a27f63ce14fd2328391f1fcc116f75",
     "grade": false,
     "grade_id": "cell-6169d01990212ad1",
     "locked": true,
     "points": 0,
     "schema_version": 3,
     "solution": false,
     "task": true
    },
    "tags": []
   },
   "source": [
    "# Zestaw zadań 8: Estymacja metodą bootstrap"
   ]
  },
  {
   "cell_type": "code",
   "execution_count": 1,
   "id": "646fa13e-8152-4056-b84a-2e978470994e",
   "metadata": {
    "deletable": false,
    "editable": false,
    "nbgrader": {
     "cell_type": "code",
     "checksum": "51f5ac8b2993613a422ba60fac73d72b",
     "grade": false,
     "grade_id": "cell-ca233643775cd1c6",
     "locked": true,
     "schema_version": 3,
     "solution": false,
     "task": false
    },
    "tags": []
   },
   "outputs": [],
   "source": [
    "import numpy as np\n",
    "import pandas as pd\n",
    "import scipy as sp\n",
    "import matplotlib as mpl\n",
    "import matplotlib.pyplot as plt\n",
    "import seaborn as sns"
   ]
  },
  {
   "cell_type": "code",
   "execution_count": null,
   "id": "4836be39-0c82-432c-a21b-d8372dc85cb3",
   "metadata": {},
   "outputs": [],
   "source": [
    "# Miejsce do importu pakietów wchodzących w skład standardowej biblioteki Pythona oraz ustawienie opcji wykorzystywanych pakietów"
   ]
  },
  {
   "cell_type": "markdown",
   "id": "11a84b13-b029-47fb-bc74-250a88b7efdc",
   "metadata": {
    "deletable": false,
    "editable": false,
    "nbgrader": {
     "cell_type": "markdown",
     "checksum": "87e9deedf72cc88c6dcb81a7cce8cf70",
     "grade": false,
     "grade_id": "cell-779efb5f5cf8863f",
     "locked": true,
     "schema_version": 3,
     "solution": false,
     "task": false
    },
    "tags": []
   },
   "source": [
    "### Dane do zadań\n",
    "\n",
    "W celu wygenerowania danych wykorzystywanych w zawartych w notatniku zadaniach i komórkach testowych wykonaj obie poniższe komórki."
   ]
  },
  {
   "cell_type": "code",
   "execution_count": 2,
   "id": "580148b7-c8cf-43be-a911-5586cfc810fb",
   "metadata": {
    "deletable": false,
    "editable": false,
    "nbgrader": {
     "cell_type": "code",
     "checksum": "37e71a378035f829c07219da3672ae17",
     "grade": false,
     "grade_id": "cell-e1ec765c1f0cf3b4",
     "locked": true,
     "schema_version": 3,
     "solution": false,
     "task": false
    },
    "tags": []
   },
   "outputs": [
    {
     "data": {
      "text/html": [
       "<div>\n",
       "<style scoped>\n",
       "    .dataframe tbody tr th:only-of-type {\n",
       "        vertical-align: middle;\n",
       "    }\n",
       "\n",
       "    .dataframe tbody tr th {\n",
       "        vertical-align: top;\n",
       "    }\n",
       "\n",
       "    .dataframe thead th {\n",
       "        text-align: right;\n",
       "    }\n",
       "</style>\n",
       "<table border=\"1\" class=\"dataframe\">\n",
       "  <thead>\n",
       "    <tr style=\"text-align: right;\">\n",
       "      <th></th>\n",
       "      <th>X</th>\n",
       "    </tr>\n",
       "  </thead>\n",
       "  <tbody>\n",
       "    <tr>\n",
       "      <th>0</th>\n",
       "      <td>5.338105</td>\n",
       "    </tr>\n",
       "    <tr>\n",
       "      <th>1</th>\n",
       "      <td>4.906813</td>\n",
       "    </tr>\n",
       "    <tr>\n",
       "      <th>2</th>\n",
       "      <td>5.006564</td>\n",
       "    </tr>\n",
       "    <tr>\n",
       "      <th>3</th>\n",
       "      <td>5.081503</td>\n",
       "    </tr>\n",
       "    <tr>\n",
       "      <th>4</th>\n",
       "      <td>4.842215</td>\n",
       "    </tr>\n",
       "  </tbody>\n",
       "</table>\n",
       "</div>"
      ],
      "text/plain": [
       "          X\n",
       "0  5.338105\n",
       "1  4.906813\n",
       "2  5.006564\n",
       "3  5.081503\n",
       "4  4.842215"
      ]
     },
     "execution_count": 2,
     "metadata": {},
     "output_type": "execute_result"
    }
   ],
   "source": [
    "sample_1 = pd.DataFrame(data=sp.stats.norm.rvs(loc=5, scale=0.2, size=20, random_state=7), columns=[\"X\"])\n",
    "sample_1.head()"
   ]
  },
  {
   "cell_type": "code",
   "execution_count": 3,
   "id": "36be41fa-021c-46ec-9a7d-898bcb943a93",
   "metadata": {
    "deletable": false,
    "editable": false,
    "nbgrader": {
     "cell_type": "code",
     "checksum": "1e0772dc740b7368455ca7a4ba570521",
     "grade": false,
     "grade_id": "cell-98d7d5f10a0f1a66",
     "locked": true,
     "schema_version": 3,
     "solution": false,
     "task": false
    },
    "tags": []
   },
   "outputs": [
    {
     "data": {
      "text/html": [
       "<div>\n",
       "<style scoped>\n",
       "    .dataframe tbody tr th:only-of-type {\n",
       "        vertical-align: middle;\n",
       "    }\n",
       "\n",
       "    .dataframe tbody tr th {\n",
       "        vertical-align: top;\n",
       "    }\n",
       "\n",
       "    .dataframe thead th {\n",
       "        text-align: right;\n",
       "    }\n",
       "</style>\n",
       "<table border=\"1\" class=\"dataframe\">\n",
       "  <thead>\n",
       "    <tr style=\"text-align: right;\">\n",
       "      <th></th>\n",
       "      <th>X</th>\n",
       "      <th>Y</th>\n",
       "    </tr>\n",
       "  </thead>\n",
       "  <tbody>\n",
       "    <tr>\n",
       "      <th>0</th>\n",
       "      <td>-1.614383</td>\n",
       "      <td>-9.653548</td>\n",
       "    </tr>\n",
       "    <tr>\n",
       "      <th>1</th>\n",
       "      <td>5.801005</td>\n",
       "      <td>8.109542</td>\n",
       "    </tr>\n",
       "    <tr>\n",
       "      <th>2</th>\n",
       "      <td>-1.072962</td>\n",
       "      <td>-7.234931</td>\n",
       "    </tr>\n",
       "    <tr>\n",
       "      <th>3</th>\n",
       "      <td>4.328927</td>\n",
       "      <td>4.561478</td>\n",
       "    </tr>\n",
       "    <tr>\n",
       "      <th>4</th>\n",
       "      <td>-1.861092</td>\n",
       "      <td>-6.031980</td>\n",
       "    </tr>\n",
       "  </tbody>\n",
       "</table>\n",
       "</div>"
      ],
      "text/plain": [
       "          X         Y\n",
       "0 -1.614383 -9.653548\n",
       "1  5.801005  8.109542\n",
       "2 -1.072962 -7.234931\n",
       "3  4.328927  4.561478\n",
       "4 -1.861092 -6.031980"
      ]
     },
     "execution_count": 3,
     "metadata": {},
     "output_type": "execute_result"
    }
   ],
   "source": [
    "x = sp.stats.uniform.rvs(loc=-2, scale=10, size=25, random_state=34)\n",
    "y = 2*x - 5 + sp.stats.norm.rvs(loc=0, scale=2, size=25, random_state=13)\n",
    "sample_2 = pd.DataFrame(data=np.array([x, y]).T, columns=[\"X\", \"Y\"])\n",
    "sample_2.head()"
   ]
  },
  {
   "cell_type": "markdown",
   "id": "0a4cb14c-3960-487c-94ff-101595708d08",
   "metadata": {
    "deletable": false,
    "editable": false,
    "nbgrader": {
     "cell_type": "markdown",
     "checksum": "9f2d7c95bf4a7cc0a3af059b16d5e34e",
     "grade": false,
     "grade_id": "cell-bddafde94bb9c984",
     "locked": true,
     "schema_version": 3,
     "solution": false,
     "task": false
    },
    "tags": []
   },
   "source": [
    "### Zadanie 1: Estymacja bootstapowa parametrów próby losowej [8 pkt]\n",
    "\n",
    "Przygotuj funkcję `bootstrap_parameter_estimation()`, która korzystając z metody bootstrap będzie dokonywała estymacji przedziałowej podstawowych parametrów próby losowej - wartości oczekiwanej, wariancji i odchylenia standardowego dla danych wejściowych w postaci szeregu szczegółowego zgodnie ze schematem z załączonego do notatnika zestawu wzorów.\n",
    "\n",
    "W obliczeniach skorzystaj z nieobciążonych estymatorów wariancji i odchylenia standardowego.\n",
    "\n",
    "Oprócz zwracanych wartości granic przedziału funkcja powinna wyświetlać następujący komunikat:\n",
    "\n",
    "`P należy do przedziału [X, Y] przy założeniu poziomu ufności 1-𝛼 = Z`\n",
    "\n",
    "gdzie P (symbol lub nazwa estymowanego parametru), X, Y i Z są automatycznie uzupełniane przez funkcję, a X i Y dodatkowo sformatowane w taki sposób, żeby wyświetlały się z dokładnością do 4 miejsc po przecinku.\n",
    "\n",
    "Uwagi do wykonania zadania:\n",
    " - Automatyczne testy zakładają losowanie prób wg następującego schematu - kolejne próby są losowane w pęli for, a funkcja losująca próbę (np. `pd.sample()`) w kolejnych losowaniach ma ustawioną wartość parametru odpowiadającego za ziarno generatora liczb losowych na wartość `random_state`, `random_state+1`, `random_state+2` itd. \n",
    " - Celem zadania jest napisanie funkcji od podstaw, w rozwiązaniu nie należy korzystać z gotowych funkcji służących do estymacji bootstrapowej."
   ]
  },
  {
   "cell_type": "code",
   "execution_count": 8,
   "id": "ee4aac17-eb91-4a7d-8bb7-2b36516c6181",
   "metadata": {
    "deletable": false,
    "nbgrader": {
     "cell_type": "code",
     "checksum": "a49dbd76f901907512b0e70dd9f61ae8",
     "grade": false,
     "grade_id": "cell-618e12c8ffef0965",
     "locked": false,
     "schema_version": 3,
     "solution": true,
     "task": false
    },
    "tags": []
   },
   "outputs": [],
   "source": [
    "import numpy as np\n",
    "def bootstrap_parameter_estimation(data, parameter, number_of_samples, alpha, random_state):\n",
    "    n = len(data)\n",
    "    estimates = []\n",
    "    def calculate_estimates(sample):\n",
    "        if parameter == \"mean\":\n",
    "            return np.mean(sample)\n",
    "        elif parameter == \"var\":\n",
    "            return np.var(sample, ddof=1) # liczba stopni swobody ddof\n",
    "        elif parameter == \"std\":\n",
    "            return np.std(sample, ddof=1)\n",
    "        else:\n",
    "            raise ValueError(\"Nieprawidłowy parametr. Dostępne opcje: 'mean', 'variance', 'std'\")\n",
    "    for _ in range(number_of_samples):\n",
    "        #np.random.seed(random_state)\n",
    "        bootstrap_sample = data.sample(n, replace=True, random_state = random_state)\n",
    "        random_state += 1 \n",
    "        estimates.append(calculate_estimates(bootstrap_sample))\n",
    "    lower_bound = np.quantile(estimates, alpha/2)  # np.quantile\n",
    "    upper_bound = np.quantile(estimates, 1-alpha/2) # \n",
    "    print(f\"{parameter.capitalize()} należy do przedziału [{lower_bound:.4f}, {upper_bound:.4f}] przy założeniu poziomu ufności 1-{alpha} = {1-alpha}\")\n",
    "    return lower_bound, upper_bound"
   ]
  },
  {
   "cell_type": "code",
   "execution_count": 9,
   "id": "848e11dd-c2fd-402d-b2d9-3edeb3002c63",
   "metadata": {
    "deletable": false,
    "editable": false,
    "nbgrader": {
     "cell_type": "code",
     "checksum": "c4875c68b68cbda4f874933c4628d2f6",
     "grade": true,
     "grade_id": "cell-eab0d556900c97d4",
     "locked": true,
     "points": 8,
     "schema_version": 3,
     "solution": false,
     "task": false
    },
    "tags": []
   },
   "outputs": [
    {
     "name": "stdout",
     "output_type": "stream",
     "text": [
      "Mean należy do przedziału [4.9136, 5.0586] przy założeniu poziomu ufności 1-0.05 = 0.95\n",
      "Var należy do przedziału [0.0098, 0.0501] przy założeniu poziomu ufności 1-0.02 = 0.98\n",
      "Std należy do przedziału [0.1185, 0.2069] przy założeniu poziomu ufności 1-0.1 = 0.9\n"
     ]
    }
   ],
   "source": [
    "# Komórka testowa\n",
    "assert np.all(np.isclose(bootstrap_parameter_estimation(sample_1, \"mean\", 1000, 0.05, 34), (4.913578501079754, 5.058598650238277)))\n",
    "assert np.all(np.isclose(bootstrap_parameter_estimation(sample_1, \"var\", 2000, 0.02, 31), (0.009780029754528753, 0.05012098474121563)))\n",
    "assert np.all(np.isclose(bootstrap_parameter_estimation(sample_1, \"std\", 1500, 0.1, 39), (0.11848597559111698, 0.20690074715252046)))"
   ]
  },
  {
   "cell_type": "markdown",
   "id": "6cb281ab-6a1f-4c74-aabb-dd05e021d39a",
   "metadata": {
    "deletable": false,
    "editable": false,
    "nbgrader": {
     "cell_type": "markdown",
     "checksum": "e55acecf1eeecf138fb48607b92cf8b6",
     "grade": false,
     "grade_id": "cell-b047c9b13c57ea98",
     "locked": true,
     "schema_version": 3,
     "solution": false,
     "task": false
    },
    "tags": []
   },
   "source": [
    "### Zadanie 2: Estymacja bootstrapowa wartości współczynnika korelacji liniowej [4 pkt]\n",
    "\n",
    "Przygotuj funkcję `bootstrap_correlation_estimation()`, która korzystając z metody bootstrap będzie dokonywała estymacji przedziałowej wartości współczynnika korelacji liniowej Pearsona dla danych wejściowych w postaci szeregu szczegółowego zgodnie ze schematem z załączonego do notatnika zestawu wzorów.\n",
    "\n",
    "Oprócz zwracanych wartości granic przedziału funkcja powinna wyświetlać następujący komunikat:\n",
    "\n",
    "`r należy do przedziału [X, Y] przy założeniu poziomu ufności 1-𝛼 = Z`\n",
    "\n",
    "gdzie X, Y i Z są automatycznie uzupełniane przez funkcję, a X i Y dodatkowo sformatowane w taki sposób, żeby wyświetlały się z dokładnością do 4 miejsc po przecinku.\n",
    "\n",
    "Uwagi do wykonania zadania:\n",
    " - Automatyczne testy zakładają losowanie prób wg następującego schematu - kolejne próby są losowane w pęli for, a funkcja losująca próbę (np. `pd.sample()`) w kolejnych losowaniach ma ustawioną wartość parametru odpowiadającego za ziarno generatora liczb losowych na wartość `random_state`, `random_state+1`, `random_state+2` itd. \n",
    " - Celem zadania jest napisanie funkcji od podstaw, w rozwiązaniu nie należy korzystać z gotowych funkcji służących do estymacji bootstrapowej."
   ]
  },
  {
   "cell_type": "code",
   "execution_count": 6,
   "id": "86aff572-d602-4fc8-b29b-cbeb05d49607",
   "metadata": {
    "deletable": false,
    "nbgrader": {
     "cell_type": "code",
     "checksum": "54bc2208e3aeebab384f9d2b19d1ce38",
     "grade": false,
     "grade_id": "cell-d785d7ff406d589d",
     "locked": false,
     "schema_version": 3,
     "solution": true,
     "task": false
    },
    "tags": []
   },
   "outputs": [],
   "source": [
    "def bootstrap_correlation_estimation(data, number_of_samples, alpha, random_state):\n",
    "    n = len(data)\n",
    "    correlations = []\n",
    "    for _ in range(number_of_samples):\n",
    "        np.random.seed(random_state)\n",
    "        random_state += 1\n",
    "        bootstrap_sample = data.sample(n, replace=True).values\n",
    "        correlation_matrix = np.corrcoef(bootstrap_sample, rowvar=False) # corrcoef,  macierz korelacji \n",
    "        correlation_coefficient = correlation_matrix[0, 1]\n",
    "        correlations.append(correlation_coefficient)\n",
    "    lower_bound = np.quantile(correlations, alpha/2)\n",
    "    upper_bound = np.quantile(correlations, 1-alpha/2)\n",
    "    print(f\"r należy do przedziału [{lower_bound:.4f}, {upper_bound:.4f}] przy założeniu poziomu ufności 1-{alpha} = {1-alpha}\")\n",
    "    return lower_bound, upper_bound\n",
    "    "
   ]
  },
  {
   "cell_type": "code",
   "execution_count": 7,
   "id": "fa08d988-f38f-4aec-a9d2-fbff31c8f236",
   "metadata": {
    "deletable": false,
    "editable": false,
    "nbgrader": {
     "cell_type": "code",
     "checksum": "c8681b8d5863c6226a9ea8d0855c0e8d",
     "grade": true,
     "grade_id": "cell-4dfca86f32f1359a",
     "locked": true,
     "points": 4,
     "schema_version": 3,
     "solution": false,
     "task": false
    },
    "tags": []
   },
   "outputs": [
    {
     "name": "stdout",
     "output_type": "stream",
     "text": [
      "r należy do przedziału [0.9292, 0.9816] przy założeniu poziomu ufności 1-0.05 = 0.95\n",
      "r należy do przedziału [0.9171, 0.9841] przy założeniu poziomu ufności 1-0.02 = 0.98\n"
     ]
    }
   ],
   "source": [
    "# Komórka testowa\n",
    "assert np.all(np.isclose(bootstrap_correlation_estimation(sample_2, 1200, 0.05, 54), (0.9292256084679922, 0.9816422271248535)))\n",
    "assert np.all(np.isclose(bootstrap_correlation_estimation(sample_2, 1500, 0.02, 14), (0.9171033819425604, 0.9840550768251518)))"
   ]
  },
  {
   "cell_type": "markdown",
   "id": "8163fcd8-3f08-4dbe-b30d-72083c6f5e88",
   "metadata": {
    "deletable": false,
    "editable": false,
    "nbgrader": {
     "cell_type": "markdown",
     "checksum": "a63525b262b845b4182bb285b3aed30a",
     "grade": false,
     "grade_id": "cell-c8eb55477ab1a574",
     "locked": true,
     "schema_version": 3,
     "solution": false,
     "task": false
    },
    "tags": []
   },
   "source": [
    "### Zadanie 3: Estymacja bootstrapowa współczynników równania regresji liniowej [6 pkt]\n",
    "\n",
    "Przygotuj funkcję `bootstrap_linear_regression_coefficients_estimation()`, która korzystając z metody bootstrap będzie dokonywała estymacji przedziałowej wartości współczynników równania regresji liniowej dla danych wejściowych w postaci szeregu szczegółowego zgodnie ze schematem z załączonego do notatnika zestawu wzorów.\n",
    "\n",
    "Oprócz zwracanych wartości granic przedziału funkcja powinna wyświetlać następujący komunikat:\n",
    "\n",
    "`a należy do przedziału [X1, Y1] przy założeniu poziomu ufności 1-𝛼 = Z1` </br>\n",
    "`b należy do przedziału [X2, Y2] przy założeniu poziomu ufności 1-𝛼 = Z2`\n",
    "\n",
    "gdzie X1, X2, Y1, Y2, Z1 i Z2 są automatycznie uzupełniane przez funkcję, a X1, X2, Y1 i Y2 dodatkowo sformatowane w taki sposób, żeby wyświetlały się z dokładnością do 4 miejsc po przecinku.\n",
    "\n",
    "Uwagi do wykonania zadania:\n",
    " - Automatyczne testy zakładają losowanie prób wg następującego schematu - kolejne próby są losowane w pęli for, a funkcja losująca próbę (np. `pd.sample()`) w kolejnych losowaniach ma ustawioną wartość parametru odpowiadającego za ziarno generatora liczb losowych na wartość `random_state`, `random_state+1`, `random_state+2` itd. \n",
    " - Celem zadania jest napisanie funkcji od podstaw, w rozwiązaniu nie należy korzystać z gotowych funkcji służących do estymacji bootstrapowej."
   ]
  },
  {
   "cell_type": "code",
   "execution_count": 4,
   "id": "227ed223-7067-4a18-af15-f97b318b2d63",
   "metadata": {
    "deletable": false,
    "nbgrader": {
     "cell_type": "code",
     "checksum": "907932e1028c76110b35a9dfd7434163",
     "grade": false,
     "grade_id": "cell-03ff8749dfe56b09",
     "locked": false,
     "schema_version": 3,
     "solution": true,
     "task": false
    },
    "tags": []
   },
   "outputs": [],
   "source": [
    "def bootstrap_linear_regression_coefficients_estimation(data, number_of_samples, alpha, random_state):\n",
    "    n = len(data)\n",
    "    coefficients = {'a': [], 'b': [] }\n",
    "    for i in range(number_of_samples):\n",
    "        np.random.seed(random_state)\n",
    "        random_state += 1\n",
    "        bootstrap_sample = data.sample(n=n, replace=True)\n",
    "        x_mean = bootstrap_sample['X'].mean()\n",
    "        y_mean = bootstrap_sample['Y'].mean()\n",
    "        xy_mean = (bootstrap_sample['X'] * bootstrap_sample['Y']).mean()\n",
    "        x_squared_mean = (bootstrap_sample['X'] ** 2).mean()\n",
    "        a = (xy_mean - x_mean * y_mean) / (x_squared_mean - x_mean ** 2) # \n",
    "        b = y_mean - a * x_mean\n",
    "        coefficients['a'].append(a)\n",
    "        coefficients['b'].append(b)\n",
    "    coefficients_df = pd.DataFrame(coefficients)\n",
    "    confidence_intervals = coefficients_df.quantile([alpha / 2, 1 - alpha / 2]) # np.quantile(correlations, alpha/2)\n",
    "    #print(confidence_intervals)\n",
    "    a_lower, a_upper = confidence_intervals.loc[alpha / 2, 'a'], confidence_intervals.loc[1 - alpha / 2, 'a']\n",
    "    b_lower, b_upper = confidence_intervals.loc[alpha / 2, 'b'], confidence_intervals.loc[1 - alpha / 2, 'b'] # \n",
    "    print(f\"a należy do przedziału [{a_lower:.4f}, {a_upper:.4f}] przy założeniu poziomu ufności 1-{alpha:.2f}\")\n",
    "    print(f\"b należy do przedziału [{b_lower:.4f}, {b_upper:.4f}] przy założeniu poziomu ufności 1-{alpha:.2f}\")\n",
    "    return ( (a_lower, a_upper), (b_lower, b_upper) )\n",
    "    \n",
    "\n",
    "# "
   ]
  },
  {
   "cell_type": "code",
   "execution_count": 5,
   "id": "5d10f729-8a39-41cf-a9e5-cba4660dee5e",
   "metadata": {
    "deletable": false,
    "editable": false,
    "nbgrader": {
     "cell_type": "code",
     "checksum": "3e3c2612109488e2e806cac33a7cd216",
     "grade": true,
     "grade_id": "cell-0febc4ee671ad799",
     "locked": true,
     "points": 6,
     "schema_version": 3,
     "solution": false,
     "task": false
    },
    "tags": []
   },
   "outputs": [
    {
     "name": "stdout",
     "output_type": "stream",
     "text": [
      "a należy do przedziału [1.8361, 2.2918] przy założeniu poziomu ufności 1-0.05\n",
      "b należy do przedziału [-5.5755, -3.6854] przy założeniu poziomu ufności 1-0.05\n",
      "\n",
      "a należy do przedziału [1.7965, 2.3372] przy założeniu poziomu ufności 1-0.02\n",
      "b należy do przedziału [-5.7712, -3.4812] przy założeniu poziomu ufności 1-0.02\n"
     ]
    }
   ],
   "source": [
    "# Komórka testowa\n",
    "assert np.all(np.isclose(bootstrap_linear_regression_coefficients_estimation(sample_2, 1800, 0.05, 71), ((1.8361393329086446, 2.2918023790827124), (-5.575502208944547, -3.6854174758043574))))\n",
    "print()\n",
    "assert np.all(np.isclose(bootstrap_linear_regression_coefficients_estimation(sample_2, 2100, 0.02, 62), ((1.7964929430496048, 2.337236979144576), (-5.771238137193083, -3.481203748551042))))"
   ]
  },
  {
   "cell_type": "markdown",
   "id": "66d6df14-6660-4f13-83b0-2c906ae01ef0",
   "metadata": {
    "deletable": false,
    "editable": false,
    "nbgrader": {
     "cell_type": "markdown",
     "checksum": "c2a44fab6e410ddd3f4d44d9aaae0bd8",
     "grade": false,
     "grade_id": "cell-27525af82426dfb2",
     "locked": true,
     "schema_version": 3,
     "solution": false,
     "task": false
    },
    "tags": []
   },
   "source": [
    "### Zadanie 4: Estymacja bootstrapowa za pomocą dedykowanych funkcji [7 pkt]\n",
    "\n",
    "Korzystając z funkcji `scipy.stats.bootstrap()` dokonaj estymacji przedziałowej następujących parametrów na poziomie istotności 1-alpha = 0.98:\n",
    " - na podstawie zmiennej `sample_1`: średnia, wariancja, odchylenie standardowe,\n",
    " - na podstawie zmiannej `sample_2`: współczynnik korelacji liniowej Pearsona, współczynniki równania regresji liniowej a i b.\n",
    " \n",
    "Wyniki zapisz do zmiennych o nazwach `mean_ci`, `var_ci`, `std_ci`, `r_ci`, `a_ci` oraz `b_ci` zawierających listy z dolnymi i górnymi granicami przedziałów ufności. Podczas obliczania wartości każdego z parametrów ustaw wartość argumentu funkcji `scipy.stats.bootstrap()` odpowiadającego za ziarno generatora liczb losowych na 25.\n",
    "\n",
    "Uwagi do wykonania zadania:\n",
    " - Automatyczne testy przewidują obliczenie wartości wariancji i odchylenia standardowego dla wartości parametru `ddof=0`."
   ]
  },
  {
   "cell_type": "code",
   "execution_count": 8,
   "id": "1ac37ca1-f634-4edb-bf09-766dba6b1748",
   "metadata": {
    "deletable": false,
    "nbgrader": {
     "cell_type": "code",
     "checksum": "dc1f11773892876bf6ebe8f31bff9048",
     "grade": false,
     "grade_id": "cell-5028ed987941ac51",
     "locked": false,
     "schema_version": 3,
     "solution": true,
     "task": false
    },
    "tags": []
   },
   "outputs": [
    {
     "name": "stdout",
     "output_type": "stream",
     "text": [
      "(4.890098551749027, 5.063500727815335)\n"
     ]
    }
   ],
   "source": [
    "from scipy.stats import bootstrap, pearsonr, linregress\n",
    "def mean_bootstrap(data):\n",
    "    return np.mean(data)\n",
    "def var_bootstrap(data):\n",
    "    return np.var(data, ddof=0)\n",
    "def std_bootstrap(data):\n",
    "    return np.std(data, ddof=0)\n",
    "random_seed = 25\n",
    "dat = sample_1['X'].values\n",
    "mean_ci = bootstrap((dat,), mean_bootstrap, random_state=random_seed, confidence_level=0.98) # random_state, confidence_level\n",
    "mean_ci = (mean_ci.confidence_interval.low, mean_ci.confidence_interval.high)\n",
    "print(mean_ci)\n",
    "\n",
    "\n",
    "# super "
   ]
  },
  {
   "cell_type": "code",
   "execution_count": null,
   "id": "e5d1906c-57ca-4d86-ae85-00c6e5951209",
   "metadata": {
    "deletable": false,
    "nbgrader": {
     "cell_type": "code",
     "checksum": "100623ffb854c150b3c6327385694ae7",
     "grade": false,
     "grade_id": "cell-1b6eb85e5b1da27a",
     "locked": false,
     "schema_version": 3,
     "solution": true,
     "task": false
    },
    "tags": []
   },
   "outputs": [],
   "source": []
  },
  {
   "cell_type": "code",
   "execution_count": 9,
   "id": "6126c666-5b1c-4b50-926e-29e07e2def2e",
   "metadata": {
    "deletable": false,
    "nbgrader": {
     "cell_type": "code",
     "checksum": "21ac2ba1c0d37f9c6b1a03d275dd6536",
     "grade": false,
     "grade_id": "cell-7fa6f2c46b14d185",
     "locked": false,
     "schema_version": 3,
     "solution": true,
     "task": false
    },
    "tags": []
   },
   "outputs": [
    {
     "name": "stdout",
     "output_type": "stream",
     "text": [
      "(0.013001391902892368, 0.05670851692597062)\n"
     ]
    }
   ],
   "source": [
    "var_ci = bootstrap((dat,), var_bootstrap, random_state=random_seed, confidence_level=0.98)\n",
    "var_ci = (var_ci.confidence_interval.low, var_ci.confidence_interval.high)\n",
    "print(var_ci)"
   ]
  },
  {
   "cell_type": "code",
   "execution_count": 10,
   "id": "01d91d9f-3cc3-4522-828d-4cc828464c31",
   "metadata": {
    "deletable": false,
    "nbgrader": {
     "cell_type": "code",
     "checksum": "c60e0354f6c6b64c8a5f715308c8de07",
     "grade": false,
     "grade_id": "cell-185444e7b6b077c2",
     "locked": false,
     "schema_version": 3,
     "solution": true,
     "task": false
    },
    "tags": []
   },
   "outputs": [
    {
     "name": "stdout",
     "output_type": "stream",
     "text": [
      "(0.11423521149909441, 0.23829111055240196)\n"
     ]
    }
   ],
   "source": [
    "std_ci = bootstrap((dat,), std_bootstrap, random_state=random_seed, confidence_level=0.98)\n",
    "std_ci = (std_ci.confidence_interval.low, std_ci.confidence_interval.high)\n",
    "print(std_ci)"
   ]
  },
  {
   "cell_type": "code",
   "execution_count": 14,
   "id": "b24ab3b4-58bd-4e94-945e-bf71c3544f9f",
   "metadata": {
    "deletable": false,
    "nbgrader": {
     "cell_type": "code",
     "checksum": "e00ad0665cb15ba52bac7adf0bb17d55",
     "grade": false,
     "grade_id": "cell-6c7a615fa2793828",
     "locked": false,
     "schema_version": 3,
     "solution": true,
     "task": false
    },
    "tags": []
   },
   "outputs": [
    {
     "name": "stdout",
     "output_type": "stream",
     "text": [
      "ConfidenceInterval(low=array([9.15671578e-01, 1.73537294e-18]), high=array([9.82274370e-01, 7.88152579e-11]))\n"
     ]
    },
    {
     "data": {
      "text/plain": [
       "(0.9156715777126913, 0.9822743695601275)"
      ]
     },
     "execution_count": 14,
     "metadata": {},
     "output_type": "execute_result"
    }
   ],
   "source": [
    "# r\n",
    "# YOUR CODE HERE\n",
    "r_ci=bootstrap((sample_2[\"X\"],sample_2[\"Y\"]),sp.stats.pearsonr,confidence_level=0.98,random_state=25,paired = True).confidence_interval    # pearsonr, linregress\n",
    "print(r_ci) #personr zwraca 2 rzeczy, interesuje nas 1, dlatego [0]\n",
    "r_ci = (r_ci[0][0],r_ci[1][0])\n",
    "r_ci"
   ]
  },
  {
   "cell_type": "code",
   "execution_count": 12,
   "id": "74e13fc0-a246-490f-a57f-86edb9c10b5c",
   "metadata": {
    "deletable": false,
    "nbgrader": {
     "cell_type": "code",
     "checksum": "44f25c0695de50ffec324456a5fc362a",
     "grade": false,
     "grade_id": "cell-cc1ee5d5033d0923",
     "locked": false,
     "schema_version": 3,
     "solution": true,
     "task": false
    },
    "tags": []
   },
   "outputs": [
    {
     "name": "stdout",
     "output_type": "stream",
     "text": [
      "ConfidenceInterval(low=array([ 1.79294834e+00, -5.70093478e+00,  9.15671578e-01,  1.73537294e-18,\n",
      "        8.52145410e-02]), high=array([ 2.32821116e+00, -3.42922833e+00,  9.82274370e-01,  7.88152579e-11,\n",
      "        1.82704580e-01]))\n"
     ]
    },
    {
     "data": {
      "text/plain": [
       "(-5.700934784848322, -3.4292283266002834)"
      ]
     },
     "execution_count": 12,
     "metadata": {},
     "output_type": "execute_result"
    }
   ],
   "source": [
    "# a\n",
    "# YOUR CODE HERE\n",
    "\n",
    "a_ci=sp.stats.bootstrap((sample_2[\"X\"],sample_2[\"Y\"]),sp.stats.linregress,confidence_level=0.98,random_state=25,paired = True).confidence_interval\n",
    "#linregress zwraca 5 rzeczy, interesuje nas pierwsza z nich\n",
    "a_ci=(a_ci[0][0],a_ci[1][0])\n",
    "a_ci \n",
    "\n",
    "\n",
    "##########################################################################################\n",
    "\n",
    "# b\n",
    "# YOUR CODE HERE\n",
    "b_ci=sp.stats.bootstrap((sample_2[\"X\"],sample_2[\"Y\"]),sp.stats.linregress,confidence_level=0.98,random_state=25,paired = True).confidence_interval\n",
    "print(b_ci)\n",
    "#linregress zwraca 5 rzeczy, teraz interesuje nas 2 z nich\n",
    "b_ci=(b_ci[0][1],b_ci[1][1])\n",
    "b_ci"
   ]
  },
  {
   "cell_type": "code",
   "execution_count": 13,
   "id": "3f1721d8-6cea-4247-9fef-85ce055f02b6",
   "metadata": {
    "deletable": false,
    "editable": false,
    "nbgrader": {
     "cell_type": "code",
     "checksum": "93d36edc394e33cd91271bbdc21ba4c7",
     "grade": true,
     "grade_id": "cell-34b28c6c1e5083f0",
     "locked": true,
     "points": 7,
     "schema_version": 3,
     "solution": false,
     "task": false
    },
    "tags": []
   },
   "outputs": [],
   "source": [
    "# Komórka testowa\n",
    "assert np.all(np.isclose(mean_ci, (4.890098551749027, 5.063500727815335)))\n",
    "assert np.all(np.isclose(var_ci, (0.013001391902892368, 0.05670851692597062)))\n",
    "assert np.all(np.isclose(std_ci, (0.11423521149909441, 0.23829111055240196)))\n",
    "assert np.all(np.isclose(r_ci, (0.9156715777126913, 0.9822743695601276)))\n",
    "assert np.all(np.isclose(a_ci, (1.792948341896073, 2.3282111601384945)))\n",
    "assert np.all(np.isclose(b_ci, (-5.700934784848322, -3.4292283266002834)))"
   ]
  }
 ],
 "metadata": {
  "kernelspec": {
   "display_name": "Python 3 (ipykernel)",
   "language": "python",
   "name": "python3"
  },
  "language_info": {
   "codemirror_mode": {
    "name": "ipython",
    "version": 3
   },
   "file_extension": ".py",
   "mimetype": "text/x-python",
   "name": "python",
   "nbconvert_exporter": "python",
   "pygments_lexer": "ipython3",
   "version": "3.11.0"
  }
 },
 "nbformat": 4,
 "nbformat_minor": 5
}
